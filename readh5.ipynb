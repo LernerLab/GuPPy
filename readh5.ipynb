{
 "cells": [
  {
   "cell_type": "code",
   "execution_count": null,
   "metadata": {},
   "outputs": [],
   "source": [
    "import pandas as pd"
   ]
  },
  {
   "cell_type": "code",
   "execution_count": null,
   "metadata": {},
   "outputs": [],
   "source": [
    "# filepath where your file is located \n",
    "filepath = '/Users/VENUS/Downloads/JIllian/Abby/average/peak_AUC_UnrewardedPort_DLS_z_score_DLS.h5'\n",
    "\n",
    "# read file and make a dataframe\n",
    "df = pd.read_hdf(filepath, key='df', mode='r')\n",
    "\n",
    "# print dataframe\n",
    "df"
   ]
  },
  {
   "cell_type": "code",
   "execution_count": null,
   "metadata": {},
   "outputs": [],
   "source": []
  }
 ],
 "metadata": {
  "kernelspec": {
   "display_name": "fiberphotometry",
   "language": "python",
   "name": "fiberphotometry"
  },
  "language_info": {
   "codemirror_mode": {
    "name": "ipython",
    "version": 3
   },
   "file_extension": ".py",
   "mimetype": "text/x-python",
   "name": "python",
   "nbconvert_exporter": "python",
   "pygments_lexer": "ipython3",
   "version": "3.6.10"
  }
 },
 "nbformat": 4,
 "nbformat_minor": 4
}
