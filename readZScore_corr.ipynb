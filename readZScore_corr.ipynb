{
 "cells": [
  {
   "cell_type": "code",
   "execution_count": null,
   "metadata": {},
   "outputs": [],
   "source": [
    "import os\n",
    "import numpy as np\n",
    "import pandas as pd\n",
    "import h5py\n",
    "from scipy.stats import pearsonr, spearmanr"
   ]
  },
  {
   "cell_type": "code",
   "execution_count": null,
   "metadata": {},
   "outputs": [],
   "source": [
    "# function to read hdf5 file\n",
    "def read_hdf5(event, filepath, key):\n",
    "    if event:\n",
    "        op = os.path.join(filepath, event+'.hdf5')\n",
    "    else:\n",
    "        op = filepath\n",
    "    \n",
    "    if os.path.exists(op):\n",
    "        with h5py.File(op, 'r') as f:\n",
    "            arr = np.asarray(f[key])\n",
    "    else:\n",
    "        raise Exception('{}.hdf5 file does not exist'.format(event))\n",
    "    \n",
    "    return arr"
   ]
  },
  {
   "cell_type": "code",
   "execution_count": null,
   "metadata": {},
   "outputs": [],
   "source": [
    "# filepath to the guppy output folder\n",
    "filepath = '/Users/VENUS/Downloads/FP_Data/Jillian/F337-210610-145110/F337-210610-145110_output_1'\n",
    "\n",
    "# filenames of the z-scores traces\n",
    "filenames = [\n",
    "    'z_score_D2.hdf5',\n",
    "    'z_score_DA.hdf5',\n",
    "    'z_score_Re.hdf5'\n",
    "]\n",
    "new_filenames = filenames[1:] + [filenames[0]]\n",
    "\n",
    "result, index, cols = [], [], []\n",
    "for i in range(len(filenames)):\n",
    "    # reading z-score files\n",
    "    x = read_hdf5('', os.path.join(filepath, filenames[i]), 'data')\n",
    "    y = read_hdf5('', os.path.join(filepath, new_filenames[i]), 'data')\n",
    "    \n",
    "    # check x and y length\n",
    "    if x.shape[0]>y.shape[0]:\n",
    "        x = x[:y.shape[0]]\n",
    "    elif x.shape[0]<y.shape[0]:\n",
    "        y = y[:x.shape[0]]\n",
    "    else:\n",
    "        x, y = x, y\n",
    "    \n",
    "    region_a = os.path.splitext(filenames[i])[0].split('_')[-1]\n",
    "    region_b = os.path.splitext(new_filenames[i])[0].split('_')[-1]\n",
    "    cols.append(['{}_{}_{}'.format(region_a, region_b, 'r'), '{}_{}_{}'.format(region_a, region_b, 'p')])\n",
    "    \n",
    "    # running parammetric pearson correlation test\n",
    "    r, p = pearsonr(x, y)\n",
    "    result.append([r, p])\n",
    "    index.append('{}_{}_{}'.format(region_a, region_b, 'pearsonr'))\n",
    "\n",
    "    \n",
    "    # running non-parametric spearman correlation test\n",
    "    r_np, p_np = spearmanr(x, y, axis=None)\n",
    "    result.append([r_np, p_np])\n",
    "    index.append('{}_{}_{}'.format(region_a, region_b, 'spearmanr'))\n",
    "\n",
    "# saving to a csv file\n",
    "df = pd.DataFrame(result, index=index, columns=['r-value', 'p-value'])\n",
    "df.to_csv(os.path.join(filepath, 'z_score_corr.csv'))"
   ]
  },
  {
   "cell_type": "code",
   "execution_count": null,
   "metadata": {},
   "outputs": [],
   "source": []
  },
  {
   "cell_type": "code",
   "execution_count": null,
   "metadata": {},
   "outputs": [],
   "source": []
  }
 ],
 "metadata": {
  "kernelspec": {
   "display_name": "guppy",
   "language": "python",
   "name": "guppy"
  },
  "language_info": {
   "codemirror_mode": {
    "name": "ipython",
    "version": 3
   },
   "file_extension": ".py",
   "mimetype": "text/x-python",
   "name": "python",
   "nbconvert_exporter": "python",
   "pygments_lexer": "ipython3",
   "version": "3.6.10"
  }
 },
 "nbformat": 4,
 "nbformat_minor": 4
}
