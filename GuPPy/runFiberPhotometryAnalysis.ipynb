{
 "cells": [
  {
   "cell_type": "markdown",
   "metadata": {},
   "source": [
    "### Step 1: Import Python Packages"
   ]
  },
  {
   "cell_type": "code",
   "execution_count": null,
   "metadata": {},
   "outputs": [],
   "source": [
    "%load_ext autoreload\n",
    "%autoreload 2\n",
    "\n",
    "%matplotlib\n",
    "import os\n",
    "from readTevTsq import readRawData\n",
    "from preprocess import extractTsAndSignal\n",
    "from processTsBlocks import splitTsBlocks\n",
    "from computePsth import psthForEachStorename\n",
    "from findTransientsFreqAndAmp import executeFindFreqAndAmp"
   ]
  },
  {
   "cell_type": "markdown",
   "metadata": {},
   "source": [
    "### Step 2: Input Parameters GUI\n",
    "\n",
    "a) Open a <strong>new </strong>terminal/anaconda window and navigate to location of code by entering 'cd path_to_code'\n",
    "<br> <b>Example: 'cd Desktop/GuPPy-main/GuPPy'</b> <br> \n",
    "b) Execute the following command to open GUI\n",
    "<blockquote><strong>panel serve --show savingInputParameters.ipynb</strong></blockquote>\n",
    "c) Navigate to data location (using down arrow) and select one or more folders to analyze <br>\n",
    "d) Select appropriate options and save to file by clicking on 'Save' button<br>\n",
    "<i>Note: removeArtifacts should be set to 'False' initially </i><br>\n",
    "e) Copy 'Location to Input Parameters file' below and run cell<br>\n",
    "f) Do not close GUI browser window for input parameters file saving. To make changes to parameters, simply hit \"Save\" and continue to Step 4. "
   ]
  },
  {
   "cell_type": "code",
   "execution_count": null,
   "metadata": {},
   "outputs": [],
   "source": [
    "inputParameters = \"/Users/VENUS/Downloads/FP_Data/JIllianBlockData/inputParameters/inputParameters.json\" "
   ]
  },
  {
   "cell_type": "markdown",
   "metadata": {},
   "source": [
    "### Step 3:  Storenames GUI \n",
    "\n",
    "a) Click Storenames GUI icon <br>\n",
    "b) Select desired storenames to be analyzed <br>\n",
    "c) Click to load storenames <br>\n",
    "d) Enter names of storenames as you want them to appear (using convention detailed in GUI) <br>\n",
    "e) Select to 'create new' or 'overwrite' (for re-analysis) <br>\n",
    "f) Click 'Save' <br>\n",
    "g) Close GUI"
   ]
  },
  {
   "cell_type": "markdown",
   "metadata": {},
   "source": [
    "### Step 4:  Read Raw Data"
   ]
  },
  {
   "cell_type": "code",
   "execution_count": null,
   "metadata": {},
   "outputs": [],
   "source": [
    "readRawData(inputParameters)"
   ]
  },
  {
   "cell_type": "markdown",
   "metadata": {},
   "source": [
    "### Step 5: Extract timestamps and its correction\n",
    "<strong>After running the cell below, windows will appear with raw Control and Signal traces. If artifact removal is necessary, proceed to Step 6. If not, close windows and proceed to Step 7.</strong>"
   ]
  },
  {
   "cell_type": "code",
   "execution_count": null,
   "metadata": {},
   "outputs": [],
   "source": [
    "extractTsAndSignal(inputParameters)"
   ]
  },
  {
   "cell_type": "markdown",
   "metadata": {},
   "source": [
    "### Step 6: Remove Artifacts (skip if unnecessary)\n",
    "a) Select data to be analyzed by moving the cursor (on either control or signal trace) to desired start point and hitting any key. A line will appear marking this location.<br>\n",
    "b) Move cursor to end point and hit any key. A line will appear marking end location.<br>\n",
    "c) Repeat as needed for \"chunks\" of data to keep.<br>\n",
    "d) Close window.<br>\n",
    "e) Return to Input Parameters GUI window and set removeArtifacts to 'True'.<br>\n",
    "f) Save Input Parameters file and return to Step 5.<br>"
   ]
  },
  {
   "cell_type": "markdown",
   "metadata": {},
   "source": [
    "### Step 7: Data Analysis"
   ]
  },
  {
   "cell_type": "code",
   "execution_count": null,
   "metadata": {},
   "outputs": [],
   "source": [
    "psthForEachStorename(inputParameters)\n",
    "executeFindFreqAndAmp(inputParameters)"
   ]
  },
  {
   "cell_type": "markdown",
   "metadata": {},
   "source": [
    "### Step 8: Visualize Results\n",
    "a) Return to Input Parameters GUI <br>\n",
    "b) Click 'Visualization GUI' <br>\n",
    "<i> Note: There are tabs for PSTHs and Heat Maps. Figures can be exported as png or svg </i>"
   ]
  },
  {
   "cell_type": "markdown",
   "metadata": {},
   "source": [
    "### Group Analysis\n",
    "1) After running each individual dataset through processing above, return to Input Parameters GUI <br>\n",
    "2) Navigate to analyzed data locations and select data to be averaged <br>\n",
    "3) Select appropriate options and save to file by clicking on 'Save' button<br>\n",
    "<i>Note: Set AverageforGroup to 'True' </i><br>\n",
    "4) Copy 'Location to Input Parameters file' below and run cells below <br>"
   ]
  },
  {
   "cell_type": "code",
   "execution_count": null,
   "metadata": {},
   "outputs": [],
   "source": [
    "inputParameters_group = \"/Users/VENUS/Downloads/FP_Data/T1FAM/inputParameters/inputParameters.json\" "
   ]
  },
  {
   "cell_type": "code",
   "execution_count": null,
   "metadata": {},
   "outputs": [],
   "source": [
    "psthForEachStorename(inputParameters_group)\n",
    "executeFindFreqAndAmp(inputParameters_group)"
   ]
  },
  {
   "cell_type": "code",
   "execution_count": null,
   "metadata": {},
   "outputs": [],
   "source": []
  },
  {
   "cell_type": "markdown",
   "metadata": {},
   "source": [
    "### Visualize Group Results\n",
    "a) Return to Input Parameters GUI <br>\n",
    "b) Click 'Visualization GUI' <br>\n",
    "<i> Note: There are tabs for PSTHs and Heat Maps. Figures can be exported as png or svg </i>"
   ]
  },
  {
   "cell_type": "code",
   "execution_count": null,
   "metadata": {},
   "outputs": [],
   "source": []
  },
  {
   "cell_type": "code",
   "execution_count": null,
   "metadata": {},
   "outputs": [],
   "source": []
  },
  {
   "cell_type": "code",
   "execution_count": null,
   "metadata": {},
   "outputs": [],
   "source": []
  },
  {
   "cell_type": "code",
   "execution_count": null,
   "metadata": {},
   "outputs": [],
   "source": []
  },
  {
   "cell_type": "code",
   "execution_count": null,
   "metadata": {},
   "outputs": [],
   "source": []
  },
  {
   "cell_type": "code",
   "execution_count": null,
   "metadata": {},
   "outputs": [],
   "source": []
  },
  {
   "cell_type": "code",
   "execution_count": null,
   "metadata": {},
   "outputs": [],
   "source": []
  },
  {
   "cell_type": "code",
   "execution_count": null,
   "metadata": {},
   "outputs": [],
   "source": []
  },
  {
   "cell_type": "code",
   "execution_count": null,
   "metadata": {},
   "outputs": [],
   "source": []
  },
  {
   "cell_type": "code",
   "execution_count": null,
   "metadata": {},
   "outputs": [],
   "source": []
  },
  {
   "cell_type": "code",
   "execution_count": null,
   "metadata": {},
   "outputs": [],
   "source": []
  },
  {
   "cell_type": "code",
   "execution_count": null,
   "metadata": {},
   "outputs": [],
   "source": []
  },
  {
   "cell_type": "code",
   "execution_count": null,
   "metadata": {},
   "outputs": [],
   "source": []
  },
  {
   "cell_type": "code",
   "execution_count": null,
   "metadata": {},
   "outputs": [],
   "source": []
  },
  {
   "cell_type": "code",
   "execution_count": null,
   "metadata": {},
   "outputs": [],
   "source": []
  },
  {
   "cell_type": "code",
   "execution_count": null,
   "metadata": {},
   "outputs": [],
   "source": []
  },
  {
   "cell_type": "code",
   "execution_count": null,
   "metadata": {},
   "outputs": [],
   "source": []
  },
  {
   "cell_type": "code",
   "execution_count": null,
   "metadata": {},
   "outputs": [],
   "source": []
  },
  {
   "cell_type": "code",
   "execution_count": null,
   "metadata": {},
   "outputs": [],
   "source": []
  },
  {
   "cell_type": "code",
   "execution_count": null,
   "metadata": {},
   "outputs": [],
   "source": []
  },
  {
   "cell_type": "code",
   "execution_count": null,
   "metadata": {},
   "outputs": [],
   "source": []
  },
  {
   "cell_type": "code",
   "execution_count": null,
   "metadata": {},
   "outputs": [],
   "source": []
  },
  {
   "cell_type": "code",
   "execution_count": null,
   "metadata": {},
   "outputs": [],
   "source": []
  },
  {
   "cell_type": "code",
   "execution_count": null,
   "metadata": {},
   "outputs": [],
   "source": []
  },
  {
   "cell_type": "code",
   "execution_count": null,
   "metadata": {},
   "outputs": [],
   "source": []
  },
  {
   "cell_type": "code",
   "execution_count": null,
   "metadata": {},
   "outputs": [],
   "source": []
  },
  {
   "cell_type": "code",
   "execution_count": null,
   "metadata": {
    "scrolled": false
   },
   "outputs": [],
   "source": []
  },
  {
   "cell_type": "code",
   "execution_count": null,
   "metadata": {},
   "outputs": [],
   "source": []
  },
  {
   "cell_type": "code",
   "execution_count": null,
   "metadata": {},
   "outputs": [],
   "source": []
  },
  {
   "cell_type": "code",
   "execution_count": null,
   "metadata": {},
   "outputs": [],
   "source": []
  },
  {
   "cell_type": "code",
   "execution_count": null,
   "metadata": {},
   "outputs": [],
   "source": []
  },
  {
   "cell_type": "code",
   "execution_count": null,
   "metadata": {},
   "outputs": [],
   "source": []
  },
  {
   "cell_type": "code",
   "execution_count": null,
   "metadata": {},
   "outputs": [],
   "source": []
  },
  {
   "cell_type": "code",
   "execution_count": null,
   "metadata": {},
   "outputs": [],
   "source": []
  },
  {
   "cell_type": "code",
   "execution_count": null,
   "metadata": {},
   "outputs": [],
   "source": []
  },
  {
   "cell_type": "code",
   "execution_count": null,
   "metadata": {},
   "outputs": [],
   "source": []
  },
  {
   "cell_type": "code",
   "execution_count": null,
   "metadata": {},
   "outputs": [],
   "source": []
  },
  {
   "cell_type": "code",
   "execution_count": null,
   "metadata": {},
   "outputs": [],
   "source": []
  }
 ],
 "metadata": {
  "kernelspec": {
   "display_name": "fptest",
   "language": "python",
   "name": "fptest"
  },
  "language_info": {
   "codemirror_mode": {
    "name": "ipython",
    "version": 3
   },
   "file_extension": ".py",
   "mimetype": "text/x-python",
   "name": "python",
   "nbconvert_exporter": "python",
   "pygments_lexer": "ipython3",
   "version": "3.6.13"
  }
 },
 "nbformat": 4,
 "nbformat_minor": 2
}
