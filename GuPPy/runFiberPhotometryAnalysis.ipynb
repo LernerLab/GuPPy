{
 "cells": [
  {
   "cell_type": "markdown",
   "metadata": {},
   "source": [
    "### Step 1: Import Python Packages"
   ]
  },
  {
   "cell_type": "code",
   "execution_count": 1,
   "metadata": {},
   "outputs": [],
   "source": [
    "%load_ext autoreload\n",
    "%autoreload 2\n",
    "\n",
    "%matplotlib tk\n",
    "import os\n",
    "import json\n",
    "from readTevTsq import readRawData\n",
    "from preprocess import extractTsAndSignal\n",
    "from computePsth import psthForEachStorename\n",
    "from findTransientsFreqAndAmp import executeFindFreqAndAmp"
   ]
  },
  {
   "cell_type": "markdown",
   "metadata": {},
   "source": [
    "### Step 2: Input Parameters GUI\n",
    "\n",
    "a) Open a <strong>new </strong>terminal/anaconda window and navigate to location of code by entering 'cd path_to_code'\n",
    "<br> <b>Example: 'cd Desktop/GuPPy-main/'</b> <br> \n",
    "b) Execute the following command to open GUI\n",
    "<blockquote><strong>panel serve --show GuPPy/savingInputParameters.ipynb</strong></blockquote>\n",
    "c) Navigate to data location (using down arrow) and select one or more folders to analyze <br>\n",
    "d) Select appropriate options and save to file by clicking on 'Save' button<br>\n",
    "<i>Note: removeArtifacts should be set to 'False' initially </i><br>\n",
    "e) Copy 'Location to Input Parameters file' below and run cell<br>\n",
    "f) Do not close GUI browser window for input parameters file saving. To make changes to parameters, simply hit \"Save\" and continue to Step 4. "
   ]
  },
  {
   "cell_type": "code",
   "execution_count": 2,
   "metadata": {},
   "outputs": [],
   "source": [
    "inputParametersPath = \"/Users/vns0170/GuPPyParamtersUsed.json\""
   ]
  },
  {
   "cell_type": "markdown",
   "metadata": {},
   "source": [
    "### Step 3:  Storenames GUI \n",
    "\n",
    "a) Click Storenames GUI icon <br>\n",
    "b) Select desired storenames to be analyzed <br>\n",
    "c) Click to load storenames <br>\n",
    "d) Enter names of storenames as you want them to appear (using convention detailed in GUI) <br>\n",
    "e) Select to 'create new' or 'overwrite' (for re-analysis) <br>\n",
    "f) Click 'Save' <br>\n",
    "g) Close GUI"
   ]
  },
  {
   "cell_type": "markdown",
   "metadata": {},
   "source": [
    "### Step 4:  Read Raw Data"
   ]
  },
  {
   "cell_type": "code",
   "execution_count": 3,
   "metadata": {},
   "outputs": [
    {
     "name": "stdout",
     "output_type": "stream",
     "text": [
      "### Reading raw data... ###\n",
      "/Users/vns0170/Downloads/FP_Data/habitEarly/Photo_048_392-200728-121222\n",
      "Trying to read tsq file.\n",
      "Data from tsq file fetched.\n",
      "Reading data for event Dv1A ...\n",
      "Reading data for event Dv2A ...\n",
      "Data for event Dv1A fetched and stored.\n",
      "Data for event Dv2A fetched and stored.\n",
      "Reading data for event Dv3B ...\n",
      "Reading data for event Dv4B ...\n",
      "Data for event Dv3B fetched and stored.\n",
      "Reading data for event LNRW ...\n",
      "Data for event Dv4B fetched and stored.\n",
      "Reading data for event LNnR ...\n",
      "Data for event LNRW fetched and stored.\n",
      "Reading data for event PrtN ...\n",
      "Data for event LNnR fetched and stored.\n",
      "Reading data for event PrtR ...\n",
      "Data for event PrtN fetched and stored.\n",
      "Data for event PrtR fetched and stored.\n",
      "Time taken = 5.42340\n",
      "/Users/vns0170/Downloads/FP_Data/habitEarly/Photo_63_207-181030-103332\n",
      "Trying to read tsq file.\n",
      "Data from tsq file fetched.\n",
      "Reading data for event Dv1A ...\n",
      "Reading data for event Dv2A ...\n",
      "Data for event Dv1A fetched and stored.\n",
      "Data for event Dv2A fetched and stored.\n",
      "Reading data for event Dv3B ...\n",
      "Reading data for event Dv4B ...\n",
      "Data for event Dv3B fetched and stored.\n",
      "Reading data for event LNRW ...\n",
      "Data for event Dv4B fetched and stored.\n",
      "Reading data for event LNnR ...\n",
      "Data for event LNRW fetched and stored.\n",
      "Reading data for event PrtN ...\n",
      "Data for event LNnR fetched and stored.\n",
      "Reading data for event PrtR ...\n",
      "Data for event PrtN fetched and stored.\n",
      "Data for event PrtR fetched and stored.\n",
      "Time taken = 6.39616\n",
      "### Raw data fetched and saved.\n"
     ]
    }
   ],
   "source": [
    "readRawData(inputParametersPath)"
   ]
  },
  {
   "cell_type": "markdown",
   "metadata": {},
   "source": [
    "### Step 5: Extract timestamps and its correction\n",
    "<strong>After running the cell below, windows will appear with raw Control and Signal traces. If artifact removal is necessary, proceed to Step 6. If not, close windows and proceed to Step 7.</strong>"
   ]
  },
  {
   "cell_type": "code",
   "execution_count": 4,
   "metadata": {},
   "outputs": [
    {
     "name": "stdout",
     "output_type": "stream",
     "text": [
      "Extracting signal data and event timestamps...\n",
      "Remove Artifacts :  True\n",
      "Combine Data :  False\n",
      "Isosbestic Control Channel :  True\n",
      "Correcting timestamps by getting rid of the first 1 seconds and convert timestamps to seconds...\n",
      "Timestamps corrected and converted to seconds.\n",
      "Applying correction of timestamps to the data and event timestamps...\n",
      "Timestamps corrections applied to the data and event timestamps.\n",
      "Applying correction of timestamps to the data and event timestamps...\n",
      "Timestamps corrections applied to the data and event timestamps.\n",
      "Applying correction of timestamps to the data and event timestamps...\n",
      "Timestamps corrections applied to the data and event timestamps.\n",
      "Applying correction of timestamps to the data and event timestamps...\n",
      "Timestamps corrections applied to the data and event timestamps.\n",
      "Applying correction of timestamps to the data and event timestamps...\n",
      "Timestamps corrections applied to the data and event timestamps.\n",
      "Applying correction of timestamps to the data and event timestamps...\n",
      "Timestamps corrections applied to the data and event timestamps.\n",
      "Applying correction of timestamps to the data and event timestamps...\n",
      "Timestamps corrections applied to the data and event timestamps.\n",
      "Applying correction of timestamps to the data and event timestamps...\n",
      "Timestamps corrections applied to the data and event timestamps.\n",
      "Correcting timestamps by getting rid of the first 1 seconds and convert timestamps to seconds...\n",
      "Timestamps corrected and converted to seconds.\n",
      "Applying correction of timestamps to the data and event timestamps...\n",
      "Timestamps corrections applied to the data and event timestamps.\n",
      "Applying correction of timestamps to the data and event timestamps...\n",
      "Timestamps corrections applied to the data and event timestamps.\n",
      "Applying correction of timestamps to the data and event timestamps...\n",
      "Timestamps corrections applied to the data and event timestamps.\n",
      "Applying correction of timestamps to the data and event timestamps...\n",
      "Timestamps corrections applied to the data and event timestamps.\n",
      "Applying correction of timestamps to the data and event timestamps...\n",
      "Timestamps corrections applied to the data and event timestamps.\n",
      "Applying correction of timestamps to the data and event timestamps...\n",
      "Timestamps corrections applied to the data and event timestamps.\n",
      "Applying correction of timestamps to the data and event timestamps...\n",
      "Timestamps corrections applied to the data and event timestamps.\n",
      "Applying correction of timestamps to the data and event timestamps...\n",
      "Timestamps corrections applied to the data and event timestamps.\n",
      "Removing Artifacts from the data and correcting timestamps...\n",
      "Computing z-score for each of the data...\n",
      "Remove Artifacts :  True\n",
      "Remove Artifacts :  True\n",
      "z-score for the data computed.\n",
      "Processing timestamps to get rid of artifacts using concatenate method...\n",
      "Timestamps processed, artifacts are removed and good chunks are concatenated.\n",
      "Artifacts from the data are removed and timestamps are corrected.\n",
      "Removing Artifacts from the data and correcting timestamps...\n",
      "Computing z-score for each of the data...\n",
      "Remove Artifacts :  True\n",
      "Remove Artifacts :  True\n",
      "z-score for the data computed.\n",
      "Processing timestamps to get rid of artifacts using concatenate method...\n",
      "Timestamps processed, artifacts are removed and good chunks are concatenated.\n",
      "Artifacts from the data are removed and timestamps are corrected.\n",
      "Signal data and event timestamps are extracted.\n"
     ]
    }
   ],
   "source": [
    "extractTsAndSignal(inputParametersPath)"
   ]
  },
  {
   "cell_type": "markdown",
   "metadata": {},
   "source": [
    "### Step 6: Remove Artifacts (skip if unnecessary)\n",
    "a) Select data to be analyzed by moving the cursor (on either control or signal trace) to desired start point and hitting any key. A line will appear marking this location.<br>\n",
    "b) Move cursor to end point and hit any key. A line will appear marking end location.<br>\n",
    "c) Repeat as needed for \"chunks\" of data to keep.<br>\n",
    "d) Close window.<br>\n",
    "e) Return to Input Parameters GUI window and set removeArtifacts to 'True'.<br>\n",
    "f) Save Input Parameters file and return to Step 5.<br>"
   ]
  },
  {
   "cell_type": "markdown",
   "metadata": {},
   "source": [
    "### Step 7: Data Analysis"
   ]
  },
  {
   "cell_type": "code",
   "execution_count": 5,
   "metadata": {},
   "outputs": [
    {
     "name": "stdout",
     "output_type": "stream",
     "text": [
      "Computing PSTH, Peak and Area for each event...\n",
      "Average for group :  False\n",
      "Computing PSTH for event rwdNP...Computing PSTH for event urwdNP...\n",
      "\n",
      "PSTH for event rwdNP computed.\n",
      "Computing PSTH for event rwdNP...\n",
      "PSTH for event rwdNP computed.\n",
      "Computing PSTH for event urwdPE...\n",
      "PSTH for event urwdNP computed.\n",
      "Computing PSTH for event urwdNP...\n",
      "PSTH for event urwdPE computed.\n",
      "Computing PSTH for event urwdPE...\n",
      "PSTH for event urwdNP computed.\n",
      "Computing PSTH for event rwdPE...\n",
      "PSTH for event urwdPE computed.\n",
      "PSTH for event rwdPE computed.\n",
      "Computing PSTH for event rwdPE...\n",
      "PSTH for event rwdPE computed.\n",
      "Computing peak and area for PSTH mean signal for event rwdNP...Computing peak and area for PSTH mean signal for event urwdNP...\n",
      "\n",
      "Peak and Area for PSTH mean signal for event rwdNP computed.\n",
      "Computing peak and area for PSTH mean signal for event rwdNP...\n",
      "Peak and Area for PSTH mean signal for event rwdNP computed.\n",
      "Computing peak and area for PSTH mean signal for event urwdPE...\n",
      "Peak and Area for PSTH mean signal for event urwdNP computed.\n",
      "Computing peak and area for PSTH mean signal for event urwdNP...\n",
      "Peak and Area for PSTH mean signal for event urwdPE computed.\n",
      "Computing peak and area for PSTH mean signal for event urwdPE...\n",
      "Peak and Area for PSTH mean signal for event urwdNP computed.\n",
      "Computing peak and area for PSTH mean signal for event rwdPE...\n",
      "Peak and Area for PSTH mean signal for event rwdPE computed.\n",
      "Computing peak and area for PSTH mean signal for event rwdPE...\n",
      "Peak and Area for PSTH mean signal for event urwdPE computed.\n",
      "Peak and Area for PSTH mean signal for event rwdPE computed.\n",
      "Computing PSTH for event rwdNP...Computing PSTH for event urwdNP...\n",
      "\n",
      "PSTH for event rwdNP computed.\n",
      "Computing PSTH for event rwdNP...\n",
      "PSTH for event rwdNP computed.\n",
      "Computing PSTH for event urwdPE...\n",
      "PSTH for event urwdNP computed.\n",
      "Computing PSTH for event urwdNP...\n",
      "PSTH for event urwdPE computed.\n",
      "Computing PSTH for event urwdPE...\n",
      "PSTH for event urwdNP computed.\n",
      "Computing PSTH for event rwdPE...\n",
      "PSTH for event urwdPE computed.\n",
      "PSTH for event rwdPE computed.\n",
      "Computing PSTH for event rwdPE...\n",
      "PSTH for event rwdPE computed.\n",
      "Computing peak and area for PSTH mean signal for event urwdNP...Computing peak and area for PSTH mean signal for event rwdNP...\n",
      "\n",
      "Peak and Area for PSTH mean signal for event rwdNP computed.\n",
      "Computing peak and area for PSTH mean signal for event rwdNP...\n",
      "Peak and Area for PSTH mean signal for event rwdNP computed.\n",
      "Computing peak and area for PSTH mean signal for event urwdPE...\n",
      "Peak and Area for PSTH mean signal for event urwdNP computed.\n",
      "Computing peak and area for PSTH mean signal for event urwdNP...\n",
      "Peak and Area for PSTH mean signal for event urwdPE computed.\n",
      "Computing peak and area for PSTH mean signal for event urwdPE...\n",
      "Peak and Area for PSTH mean signal for event urwdNP computed.\n",
      "Computing peak and area for PSTH mean signal for event rwdPE...\n",
      "Peak and Area for PSTH mean signal for event urwdPE computed.\n",
      "Peak and Area for PSTH mean signal for event rwdPE computed.\n",
      "Computing peak and area for PSTH mean signal for event rwdPE...\n",
      "Peak and Area for PSTH mean signal for event rwdPE computed.\n",
      "PSTH, Area and Peak are computed for all events.\n",
      "Finding transients in z-score data and calculating frequency and amplitude....\n",
      "Calculating frequency and amplitude of transients in z-score data....\n",
      "Creating chunks for multiprocessing...\n",
      "Chunks are created for multiprocessing.\n",
      "Creating chunks for multiprocessing...\n",
      "Chunks are created for multiprocessing.\n",
      "Frequency and amplitude of transients in z_score data are calculated.\n",
      "Calculating frequency and amplitude of transients in z-score data....\n",
      "Creating chunks for multiprocessing...\n",
      "Chunks are created for multiprocessing.\n",
      "Creating chunks for multiprocessing...\n",
      "Chunks are created for multiprocessing.\n",
      "Frequency and amplitude of transients in z_score data are calculated.\n",
      "Transients in z-score data found and frequency and amplitude are calculated.\n"
     ]
    }
   ],
   "source": [
    "ip = psthForEachStorename(inputParametersPath)\n",
    "executeFindFreqAndAmp(ip)"
   ]
  },
  {
   "cell_type": "markdown",
   "metadata": {},
   "source": [
    "### Step 8: Visualize Results\n",
    "a) Return to Input Parameters GUI <br>\n",
    "b) Click 'Visualization GUI' <br>\n",
    "<i> Note: There are tabs for PSTHs and Heat Maps. Figures can be exported as png or svg </i>"
   ]
  },
  {
   "cell_type": "markdown",
   "metadata": {},
   "source": [
    "### Group Analysis\n",
    "1) After running each individual dataset through processing above, return to Input Parameters GUI <br>\n",
    "2) Navigate to analyzed data locations and select data to be averaged <br>\n",
    "3) Select appropriate options and save to file by clicking on 'Save' button<br>\n",
    "<i>Note: Set AverageforGroup to 'True' </i><br>\n",
    "4) Copy 'Location to Input Parameters file' below and run cells below <br>"
   ]
  },
  {
   "cell_type": "code",
   "execution_count": 6,
   "metadata": {},
   "outputs": [],
   "source": [
    "inputParametersPath_group = \"/Users/vns0170/GuPPyParamtersUsed.json\" "
   ]
  },
  {
   "cell_type": "code",
   "execution_count": 7,
   "metadata": {},
   "outputs": [
    {
     "name": "stdout",
     "output_type": "stream",
     "text": [
      "Computing PSTH, Peak and Area for each event...\n",
      "Average for group :  True\n",
      "Averaging group of data...\n",
      "Group of data averaged.\n",
      "Averaging group of data...\n",
      "Group of data averaged.\n",
      "Averaging group of data...\n",
      "Group of data averaged.\n",
      "Averaging group of data...\n",
      "Group of data averaged.\n",
      "PSTH, Area and Peak are computed for all events.\n",
      "Finding transients in z-score data and calculating frequency and amplitude....\n",
      "Combining results for frequency and amplitude of transients in z-score data...\n",
      "Results for frequency and amplitude of transients in z-score data are combined.\n",
      "Transients in z-score data found and frequency and amplitude are calculated.\n"
     ]
    }
   ],
   "source": [
    "ip = psthForEachStorename(inputParametersPath_group)\n",
    "executeFindFreqAndAmp(ip)"
   ]
  },
  {
   "cell_type": "code",
   "execution_count": null,
   "metadata": {},
   "outputs": [],
   "source": []
  },
  {
   "cell_type": "markdown",
   "metadata": {},
   "source": [
    "### Visualize Group Results\n",
    "a) Return to Input Parameters GUI <br>\n",
    "b) Click 'Visualization GUI' <br>\n",
    "<i> Note: There are tabs for PSTHs and Heat Maps. Figures can be exported as png or svg </i>"
   ]
  },
  {
   "cell_type": "code",
   "execution_count": null,
   "metadata": {},
   "outputs": [],
   "source": []
  },
  {
   "cell_type": "code",
   "execution_count": null,
   "metadata": {},
   "outputs": [],
   "source": []
  },
  {
   "cell_type": "code",
   "execution_count": null,
   "metadata": {},
   "outputs": [],
   "source": []
  },
  {
   "cell_type": "code",
   "execution_count": null,
   "metadata": {},
   "outputs": [],
   "source": []
  },
  {
   "cell_type": "code",
   "execution_count": null,
   "metadata": {},
   "outputs": [],
   "source": []
  },
  {
   "cell_type": "code",
   "execution_count": null,
   "metadata": {},
   "outputs": [],
   "source": []
  },
  {
   "cell_type": "code",
   "execution_count": null,
   "metadata": {},
   "outputs": [],
   "source": []
  },
  {
   "cell_type": "code",
   "execution_count": null,
   "metadata": {},
   "outputs": [],
   "source": []
  },
  {
   "cell_type": "code",
   "execution_count": null,
   "metadata": {},
   "outputs": [],
   "source": []
  },
  {
   "cell_type": "code",
   "execution_count": null,
   "metadata": {},
   "outputs": [],
   "source": []
  },
  {
   "cell_type": "code",
   "execution_count": null,
   "metadata": {},
   "outputs": [],
   "source": []
  },
  {
   "cell_type": "code",
   "execution_count": null,
   "metadata": {},
   "outputs": [],
   "source": []
  },
  {
   "cell_type": "code",
   "execution_count": null,
   "metadata": {},
   "outputs": [],
   "source": []
  },
  {
   "cell_type": "code",
   "execution_count": null,
   "metadata": {},
   "outputs": [],
   "source": []
  },
  {
   "cell_type": "code",
   "execution_count": null,
   "metadata": {},
   "outputs": [],
   "source": []
  },
  {
   "cell_type": "code",
   "execution_count": null,
   "metadata": {},
   "outputs": [],
   "source": []
  },
  {
   "cell_type": "code",
   "execution_count": null,
   "metadata": {},
   "outputs": [],
   "source": []
  },
  {
   "cell_type": "code",
   "execution_count": null,
   "metadata": {},
   "outputs": [],
   "source": []
  },
  {
   "cell_type": "code",
   "execution_count": null,
   "metadata": {},
   "outputs": [],
   "source": []
  },
  {
   "cell_type": "code",
   "execution_count": null,
   "metadata": {},
   "outputs": [],
   "source": []
  },
  {
   "cell_type": "code",
   "execution_count": null,
   "metadata": {},
   "outputs": [],
   "source": []
  },
  {
   "cell_type": "code",
   "execution_count": null,
   "metadata": {},
   "outputs": [],
   "source": []
  },
  {
   "cell_type": "code",
   "execution_count": null,
   "metadata": {},
   "outputs": [],
   "source": []
  },
  {
   "cell_type": "code",
   "execution_count": null,
   "metadata": {},
   "outputs": [],
   "source": []
  },
  {
   "cell_type": "code",
   "execution_count": null,
   "metadata": {},
   "outputs": [],
   "source": []
  },
  {
   "cell_type": "code",
   "execution_count": null,
   "metadata": {},
   "outputs": [],
   "source": []
  },
  {
   "cell_type": "code",
   "execution_count": null,
   "metadata": {},
   "outputs": [],
   "source": []
  },
  {
   "cell_type": "code",
   "execution_count": null,
   "metadata": {
    "scrolled": false
   },
   "outputs": [],
   "source": []
  },
  {
   "cell_type": "code",
   "execution_count": null,
   "metadata": {},
   "outputs": [],
   "source": []
  },
  {
   "cell_type": "code",
   "execution_count": null,
   "metadata": {},
   "outputs": [],
   "source": []
  },
  {
   "cell_type": "code",
   "execution_count": null,
   "metadata": {},
   "outputs": [],
   "source": []
  },
  {
   "cell_type": "code",
   "execution_count": null,
   "metadata": {},
   "outputs": [],
   "source": []
  },
  {
   "cell_type": "code",
   "execution_count": null,
   "metadata": {},
   "outputs": [],
   "source": []
  },
  {
   "cell_type": "code",
   "execution_count": null,
   "metadata": {},
   "outputs": [],
   "source": []
  },
  {
   "cell_type": "code",
   "execution_count": null,
   "metadata": {},
   "outputs": [],
   "source": []
  },
  {
   "cell_type": "code",
   "execution_count": null,
   "metadata": {},
   "outputs": [],
   "source": []
  },
  {
   "cell_type": "code",
   "execution_count": null,
   "metadata": {},
   "outputs": [],
   "source": []
  },
  {
   "cell_type": "code",
   "execution_count": null,
   "metadata": {},
   "outputs": [],
   "source": []
  },
  {
   "cell_type": "code",
   "execution_count": null,
   "metadata": {},
   "outputs": [],
   "source": []
  }
 ],
 "metadata": {
  "kernelspec": {
   "display_name": "guppy-test",
   "language": "python",
   "name": "guppy-test"
  },
  "language_info": {
   "codemirror_mode": {
    "name": "ipython",
    "version": 3
   },
   "file_extension": ".py",
   "mimetype": "text/x-python",
   "name": "python",
   "nbconvert_exporter": "python",
   "pygments_lexer": "ipython3",
   "version": "3.6.10"
  }
 },
 "nbformat": 4,
 "nbformat_minor": 2
}
