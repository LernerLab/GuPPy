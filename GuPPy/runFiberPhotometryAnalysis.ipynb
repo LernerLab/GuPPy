{
 "cells": [
  {
   "cell_type": "markdown",
   "metadata": {},
   "source": [
    "### Step 1: Input Parameters GUI\n",
    "\n",
    "a) Open a <strong>new </strong>terminal/anaconda window and navigate to location of code by entering 'cd path_to_code'\n",
    "<br> <b>Example: 'cd Desktop/GuPPy-main/'</b> <br> \n",
    "b) Execute the following command to open GUI\n",
    "<blockquote><strong>panel serve --show GuPPy/savingInputParameters.ipynb</strong></blockquote>\n",
    "c) Navigate to data location (using down arrow) and select one or more folders to analyze <br>\n",
    "d) Select appropriate options and save to file by clicking on 'Save' button<br>\n",
    "<i>Note: removeArtifacts should be set to 'False' initially </i><br>\n",
    "e) Copy 'Location to Input Parameters file' below and run cell<br>\n",
    "f) Do not close GUI browser window for input parameters file saving. To make changes to parameters, simply hit \"Save\" and continue to Step 4. "
   ]
  },
  {
   "cell_type": "markdown",
   "metadata": {},
   "source": [
    "For steps 1-3, please use the conda environment defined by guppy_read_env.yaml, especially if using nwb files."
   ]
  },
  {
   "cell_type": "code",
   "execution_count": 2,
   "metadata": {},
   "outputs": [],
   "source": [
    "inputParametersPath = \"/Users/pauladkisson/GuPPyParamtersUsed.json\""
   ]
  },
  {
   "cell_type": "markdown",
   "metadata": {},
   "source": [
    "### Step 2:  Storenames GUI \n",
    "\n",
    "a) Click Storenames GUI icon <br>\n",
    "b) Select desired storenames to be analyzed <br>\n",
    "c) Click to load storenames <br>\n",
    "d) Enter names of storenames as you want them to appear (using convention detailed in GUI) <br>\n",
    "e) Select to 'create new' or 'overwrite' (for re-analysis) <br>\n",
    "f) Click 'Save' <br>\n",
    "g) Close GUI"
   ]
  },
  {
   "cell_type": "markdown",
   "metadata": {},
   "source": [
    "### Step 3:  Read Raw Data"
   ]
  },
  {
   "cell_type": "code",
   "execution_count": 2,
   "metadata": {},
   "outputs": [
    {
     "name": "stdout",
     "output_type": "stream",
     "text": [
      "### Reading raw data... ###\n",
      "/Volumes/T7/CatalystNeuro/NWB/Lerner/guppy_example_data/sub-112.283_ses-FP_PS_2019-06-20T09-32-04\n",
      "Trying to read tsq file.\n",
      "\u001b[1mtsq file not found.\u001b[1m\n",
      "Checking if doric file exists.\n",
      "\u001b[1mDoric file not found.\u001b[1m\n",
      "Reading all events [0, 1] from NWB file /Volumes/T7/CatalystNeuro/NWB/Lerner/guppy_example_data/sub-112.283_ses-FP_PS_2019-06-20T09-32-04/sub-112.283_ses-FP_PS_2019-06-20T09-32-04.nwb to save to /Volumes/T7/CatalystNeuro/NWB/Lerner/guppy_example_data/sub-112.283_ses-FP_PS_2019-06-20T09-32-04/sub-112.283_ses-FP_PS_2019-06-20T09-32-04_output_0\n",
      "Data for event event_0 fetched and stored.\n",
      "Data for event event_1 fetched and stored.\n",
      "### Raw data fetched and saved.\n"
     ]
    }
   ],
   "source": [
    "from readTevTsq import readRawData\n",
    "readRawData(inputParametersPath)"
   ]
  },
  {
   "cell_type": "markdown",
   "metadata": {},
   "source": [
    "### Step 4: Import Python Packages"
   ]
  },
  {
   "cell_type": "markdown",
   "metadata": {},
   "source": [
    "For steps 4-8, please use the main guppy environment installed from the spec_file appropriate for your OS."
   ]
  },
  {
   "cell_type": "code",
   "execution_count": null,
   "metadata": {},
   "outputs": [],
   "source": [
    "%load_ext autoreload\n",
    "%autoreload 2\n",
    "\n",
    "%matplotlib tk\n",
    "import os\n",
    "import json\n",
    "from preprocess import extractTsAndSignal\n",
    "from computePsth import psthForEachStorename\n",
    "from findTransientsFreqAndAmp import executeFindFreqAndAmp\n",
    "\n",
    "inputParametersPath = \"/Users/pauladkisson/GuPPyParamtersUsed.json\""
   ]
  },
  {
   "cell_type": "markdown",
   "metadata": {},
   "source": [
    "### Step 5: Extract timestamps and its correction\n",
    "<strong>After running the cell below, windows will appear with raw Control and Signal traces. If artifact removal is necessary, proceed to Step 6. If not, close windows and proceed to Step 7.</strong>"
   ]
  },
  {
   "cell_type": "code",
   "execution_count": 3,
   "metadata": {},
   "outputs": [
    {
     "name": "stdout",
     "output_type": "stream",
     "text": [
      "Extracting signal data and event timestamps...\n",
      "Remove Artifacts :  False\n",
      "Combine Data :  False\n",
      "Isosbestic Control Channel :  True\n",
      "Correcting timestamps by getting rid of the first 1 seconds and convert timestamps to seconds...\n",
      "Timestamps corrected and converted to seconds.\n",
      "Applying correction of timestamps to the data and event timestamps...\n",
      "Timestamps corrections applied to the data and event timestamps.\n",
      "Applying correction of timestamps to the data and event timestamps...\n",
      "Timestamps corrections applied to the data and event timestamps.\n",
      "Computing z-score for each of the data...\n",
      "Remove Artifacts :  False\n",
      "z-score for the data computed.\n",
      "Signal data and event timestamps are extracted.\n"
     ]
    }
   ],
   "source": [
    "extractTsAndSignal(inputParametersPath)"
   ]
  },
  {
   "cell_type": "markdown",
   "metadata": {},
   "source": [
    "### Step 6: Remove Artifacts (skip if unnecessary)\n",
    "a) Select data to be analyzed by moving the cursor (on either control or signal trace) to desired start point and hitting any key. A line will appear marking this location.<br>\n",
    "b) Move cursor to end point and hit any key. A line will appear marking end location.<br>\n",
    "c) Repeat as needed for \"chunks\" of data to keep.<br>\n",
    "d) Close window.<br>\n",
    "e) Return to Input Parameters GUI window and set removeArtifacts to 'True'.<br>\n",
    "f) Save Input Parameters file and return to Step 5.<br>"
   ]
  },
  {
   "cell_type": "markdown",
   "metadata": {},
   "source": [
    "### Step 7: Data Analysis"
   ]
  },
  {
   "cell_type": "code",
   "execution_count": 5,
   "metadata": {},
   "outputs": [
    {
     "name": "stdout",
     "output_type": "stream",
     "text": [
      "Computing PSTH, Peak and Area for each event...\n",
      "Average for group :  False\n",
      "PSTH, Area and Peak are computed for all events.\n",
      "Finding transients in z-score data and calculating frequency and amplitude....\n",
      "Calculating frequency and amplitude of transients in z-score data....\n",
      "Creating chunks for multiprocessing...\n",
      "Chunks are created for multiprocessing.\n",
      "Frequency and amplitude of transients in z_score data are calculated.\n",
      "Transients in z-score data found and frequency and amplitude are calculated.\n"
     ]
    }
   ],
   "source": [
    "ip = psthForEachStorename(inputParametersPath)\n",
    "executeFindFreqAndAmp(ip)"
   ]
  },
  {
   "cell_type": "markdown",
   "metadata": {},
   "source": [
    "### Step 8: Visualize Results\n",
    "a) Return to Input Parameters GUI <br>\n",
    "b) Click 'Visualization GUI' <br>\n",
    "<i> Note: There are tabs for PSTHs and Heat Maps. Figures can be exported as png or svg </i>"
   ]
  },
  {
   "cell_type": "markdown",
   "metadata": {},
   "source": [
    "### Group Analysis\n",
    "1) After running each individual dataset through processing above, return to Input Parameters GUI <br>\n",
    "2) Navigate to analyzed data locations and select data to be averaged <br>\n",
    "3) Select appropriate options and save to file by clicking on 'Save' button<br>\n",
    "<i>Note: Set AverageforGroup to 'True' </i><br>\n",
    "4) Copy 'Location to Input Parameters file' below and run cells below <br>"
   ]
  },
  {
   "cell_type": "code",
   "execution_count": 6,
   "metadata": {},
   "outputs": [],
   "source": [
    "inputParametersPath_group = \"/Users/vns0170/GuPPyParamtersUsed.json\" "
   ]
  },
  {
   "cell_type": "code",
   "execution_count": 7,
   "metadata": {},
   "outputs": [
    {
     "name": "stdout",
     "output_type": "stream",
     "text": [
      "Computing PSTH, Peak and Area for each event...\n",
      "Average for group :  True\n",
      "Averaging group of data...\n",
      "Group of data averaged.\n",
      "Averaging group of data...\n",
      "Group of data averaged.\n",
      "Averaging group of data...\n",
      "Group of data averaged.\n",
      "Averaging group of data...\n",
      "Group of data averaged.\n",
      "PSTH, Area and Peak are computed for all events.\n",
      "Finding transients in z-score data and calculating frequency and amplitude....\n",
      "Combining results for frequency and amplitude of transients in z-score data...\n",
      "Results for frequency and amplitude of transients in z-score data are combined.\n",
      "Transients in z-score data found and frequency and amplitude are calculated.\n"
     ]
    }
   ],
   "source": [
    "ip = psthForEachStorename(inputParametersPath_group)\n",
    "executeFindFreqAndAmp(ip)"
   ]
  },
  {
   "cell_type": "code",
   "execution_count": null,
   "metadata": {},
   "outputs": [],
   "source": []
  },
  {
   "cell_type": "markdown",
   "metadata": {},
   "source": [
    "### Visualize Group Results\n",
    "a) Return to Input Parameters GUI <br>\n",
    "b) Click 'Visualization GUI' <br>\n",
    "<i> Note: There are tabs for PSTHs and Heat Maps. Figures can be exported as png or svg </i>"
   ]
  },
  {
   "cell_type": "code",
   "execution_count": null,
   "metadata": {},
   "outputs": [],
   "source": []
  },
  {
   "cell_type": "code",
   "execution_count": null,
   "metadata": {},
   "outputs": [],
   "source": []
  },
  {
   "cell_type": "code",
   "execution_count": null,
   "metadata": {},
   "outputs": [],
   "source": []
  },
  {
   "cell_type": "code",
   "execution_count": null,
   "metadata": {},
   "outputs": [],
   "source": []
  },
  {
   "cell_type": "code",
   "execution_count": null,
   "metadata": {},
   "outputs": [],
   "source": []
  },
  {
   "cell_type": "code",
   "execution_count": null,
   "metadata": {},
   "outputs": [],
   "source": []
  },
  {
   "cell_type": "code",
   "execution_count": null,
   "metadata": {},
   "outputs": [],
   "source": []
  },
  {
   "cell_type": "code",
   "execution_count": null,
   "metadata": {},
   "outputs": [],
   "source": []
  },
  {
   "cell_type": "code",
   "execution_count": null,
   "metadata": {},
   "outputs": [],
   "source": []
  },
  {
   "cell_type": "code",
   "execution_count": null,
   "metadata": {},
   "outputs": [],
   "source": []
  },
  {
   "cell_type": "code",
   "execution_count": null,
   "metadata": {},
   "outputs": [],
   "source": []
  },
  {
   "cell_type": "code",
   "execution_count": null,
   "metadata": {},
   "outputs": [],
   "source": []
  },
  {
   "cell_type": "code",
   "execution_count": null,
   "metadata": {},
   "outputs": [],
   "source": []
  },
  {
   "cell_type": "code",
   "execution_count": null,
   "metadata": {},
   "outputs": [],
   "source": []
  },
  {
   "cell_type": "code",
   "execution_count": null,
   "metadata": {},
   "outputs": [],
   "source": []
  },
  {
   "cell_type": "code",
   "execution_count": null,
   "metadata": {},
   "outputs": [],
   "source": []
  },
  {
   "cell_type": "code",
   "execution_count": null,
   "metadata": {},
   "outputs": [],
   "source": []
  },
  {
   "cell_type": "code",
   "execution_count": null,
   "metadata": {},
   "outputs": [],
   "source": []
  },
  {
   "cell_type": "code",
   "execution_count": null,
   "metadata": {},
   "outputs": [],
   "source": []
  },
  {
   "cell_type": "code",
   "execution_count": null,
   "metadata": {},
   "outputs": [],
   "source": []
  },
  {
   "cell_type": "code",
   "execution_count": null,
   "metadata": {},
   "outputs": [],
   "source": []
  },
  {
   "cell_type": "code",
   "execution_count": null,
   "metadata": {},
   "outputs": [],
   "source": []
  },
  {
   "cell_type": "code",
   "execution_count": null,
   "metadata": {},
   "outputs": [],
   "source": []
  },
  {
   "cell_type": "code",
   "execution_count": null,
   "metadata": {},
   "outputs": [],
   "source": []
  },
  {
   "cell_type": "code",
   "execution_count": null,
   "metadata": {},
   "outputs": [],
   "source": []
  },
  {
   "cell_type": "code",
   "execution_count": null,
   "metadata": {},
   "outputs": [],
   "source": []
  },
  {
   "cell_type": "code",
   "execution_count": null,
   "metadata": {},
   "outputs": [],
   "source": []
  },
  {
   "cell_type": "code",
   "execution_count": null,
   "metadata": {
    "scrolled": false
   },
   "outputs": [],
   "source": []
  },
  {
   "cell_type": "code",
   "execution_count": null,
   "metadata": {},
   "outputs": [],
   "source": []
  },
  {
   "cell_type": "code",
   "execution_count": null,
   "metadata": {},
   "outputs": [],
   "source": []
  },
  {
   "cell_type": "code",
   "execution_count": null,
   "metadata": {},
   "outputs": [],
   "source": []
  },
  {
   "cell_type": "code",
   "execution_count": null,
   "metadata": {},
   "outputs": [],
   "source": []
  },
  {
   "cell_type": "code",
   "execution_count": null,
   "metadata": {},
   "outputs": [],
   "source": []
  },
  {
   "cell_type": "code",
   "execution_count": null,
   "metadata": {},
   "outputs": [],
   "source": []
  },
  {
   "cell_type": "code",
   "execution_count": null,
   "metadata": {},
   "outputs": [],
   "source": []
  },
  {
   "cell_type": "code",
   "execution_count": null,
   "metadata": {},
   "outputs": [],
   "source": []
  },
  {
   "cell_type": "code",
   "execution_count": null,
   "metadata": {},
   "outputs": [],
   "source": []
  },
  {
   "cell_type": "code",
   "execution_count": null,
   "metadata": {},
   "outputs": [],
   "source": []
  },
  {
   "cell_type": "code",
   "execution_count": null,
   "metadata": {},
   "outputs": [],
   "source": []
  }
 ],
 "metadata": {
  "kernelspec": {
   "display_name": "guppy_env",
   "language": "python",
   "name": "python3"
  },
  "language_info": {
   "codemirror_mode": {
    "name": "ipython",
    "version": 3
   },
   "file_extension": ".py",
   "mimetype": "text/x-python",
   "name": "python",
   "nbconvert_exporter": "python",
   "pygments_lexer": "ipython3",
   "version": "3.12.4"
  }
 },
 "nbformat": 4,
 "nbformat_minor": 2
}
